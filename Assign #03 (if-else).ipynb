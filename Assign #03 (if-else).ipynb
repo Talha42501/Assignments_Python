{
 "cells": [
  {
   "cell_type": "code",
   "execution_count": null,
   "id": "48fc38f3-9591-44e9-a135-0a2b5e881fb8",
   "metadata": {},
   "outputs": [],
   "source": []
  }
 ],
 "metadata": {
  "kernelspec": {
   "display_name": "",
   "name": ""
  },
  "language_info": {
   "name": ""
  }
 },
 "nbformat": 4,
 "nbformat_minor": 5
}
