{
 "cells": [
  {
   "cell_type": "code",
   "execution_count": 3,
   "id": "ea63c1f5-c82f-478b-a2cb-bdcfbdf63826",
   "metadata": {},
   "outputs": [],
   "source": [
    "#Questions:\n",
    "#1) Area of a Rectangle:\n",
    "#Write a Python program to calculate the area of a rectangle. Use the formula:\n",
    "\n",
    "#Area = length × width\n",
    "\n",
    "#Take length and width as inputs from the user."
   ]
  },
  {
   "cell_type": "code",
   "execution_count": 17,
   "id": "e4d01b50-9c32-4beb-aaa2-ca35ac6d1834",
   "metadata": {},
   "outputs": [
    {
     "name": "stdout",
     "output_type": "stream",
     "text": [
      "Enter Length 4\n",
      "Enter Width 4\n"
     ]
    },
    {
     "name": "stdout",
     "output_type": "stream",
     "text": [
      "16\n"
     ]
    }
   ],
   "source": [
    "length=int(input(\"Enter Length\"))\n",
    "width=int(input(\"Enter Width\"))\n",
    "area=length*width\n",
    "print(area)"
   ]
  },
  {
   "cell_type": "code",
   "execution_count": 19,
   "id": "68a966f2-4063-4c7b-be21-3db74bdf2573",
   "metadata": {},
   "outputs": [],
   "source": [
    "#2) Circumference of a Circle:\n",
    "#Write a Python program to calculate the circumference of a circle. Use the formula:\n",
    "\n",
    "#Circumference = 2πr\n",
    "\n",
    "#Take the radius r as input from the user."
   ]
  },
  {
   "cell_type": "code",
   "execution_count": 25,
   "id": "9e115c0e-4111-49dc-83ad-21f21945d33c",
   "metadata": {},
   "outputs": [
    {
     "name": "stdout",
     "output_type": "stream",
     "text": [
      "Enter radius of a circle 5\n"
     ]
    },
    {
     "name": "stdout",
     "output_type": "stream",
     "text": [
      "31.419999999999998\n"
     ]
    }
   ],
   "source": [
    "py=3.142\n",
    "radius=int(input(\"Enter radius of a circle\"))\n",
    "circumference=2*py*radius\n",
    "print(circumference)"
   ]
  },
  {
   "cell_type": "code",
   "execution_count": 27,
   "id": "463fa131-97c1-4caa-95c7-bc920b0a692f",
   "metadata": {},
   "outputs": [],
   "source": [
    "#3) Simple Interest:\n",
    "#Write a Python program to calculate the simple interest. Use the formula:\n",
    "#Simple Interest = Principal × Rate × Time\n",
    "\n",
    "#Take Principal, Rate, and Time as inputs from the user."
   ]
  },
  {
   "cell_type": "code",
   "execution_count": 31,
   "id": "07f0158c-7fd8-4668-ad31-928b51a5a121",
   "metadata": {},
   "outputs": [
    {
     "name": "stdout",
     "output_type": "stream",
     "text": [
      "Enter principal 2\n",
      "Enter rates 2\n",
      "Enter time 2\n"
     ]
    },
    {
     "name": "stdout",
     "output_type": "stream",
     "text": [
      "8\n"
     ]
    }
   ],
   "source": [
    " Principal=int(input(\"Enter principal\"))\n",
    "Rate=int(input(\"Enter rates\"))\n",
    "time=int(input(\"Enter time\"))\n",
    "simple_interest=Principal*Rate*time\n",
    "print(simple_interest)"
   ]
  },
  {
   "cell_type": "raw",
   "id": "95156578-2f62-44c6-a180-b1c76afd106e",
   "metadata": {},
   "source": [
    "4) Speed of an Object:\n",
    "Write a Python program to calculate the speed of an object. Use the formula:\n",
    "Speed = Distance / Time\n",
    "\n",
    "Take Distance and Time as inputs from the user."
   ]
  },
  {
   "cell_type": "code",
   "execution_count": 38,
   "id": "58984817-e6dc-44fd-83d8-6a11e1e5f7b8",
   "metadata": {},
   "outputs": [
    {
     "name": "stdout",
     "output_type": "stream",
     "text": [
      "Enter distance 10\n",
      "Enter time 2\n"
     ]
    },
    {
     "name": "stdout",
     "output_type": "stream",
     "text": [
      "5.0\n"
     ]
    }
   ],
   "source": [
    " distance=int(input(\"Enter distance\"))\n",
    "time=int(input(\"Enter time\"))\n",
    "speed=distance/time\n",
    "print(speed)"
   ]
  },
  {
   "cell_type": "raw",
   "id": "3dd474bb-029a-4aad-a76a-b0caf44f3edd",
   "metadata": {},
   "source": [
    "5) BMI Calculator:\n",
    "Write a Python program to calculate the Body Mass Index (BMI). Use the formula:\n",
    "\n",
    "BMI = ௐ௘௜௚௛௧(௄௚)\n",
    "(ு௘௜௚௛௧).మ\n",
    "\n",
    "Take Weight (in kilograms) and Height (in meters) as inputs from the user."
   ]
  },
  {
   "cell_type": "code",
   "execution_count": 43,
   "id": "b898c614-178e-4818-bc06-ce52785289c2",
   "metadata": {},
   "outputs": [
    {
     "name": "stdout",
     "output_type": "stream",
     "text": [
      "Enter weight in kg 45\n",
      "Enter height in meters 5.2\n"
     ]
    },
    {
     "name": "stdout",
     "output_type": "stream",
     "text": [
      "1.6642011834319526\n"
     ]
    }
   ],
   "source": [
    " weight=float(input(\"Enter weight in kg\"))\n",
    "height=float(input(\"Enter height in meters\"))\n",
    "BMI=weight/height**2\n",
    "print(BMI)"
   ]
  },
  {
   "cell_type": "raw",
   "id": "441b8dc1-7c1e-4595-9a55-9e8aff04a957",
   "metadata": {},
   "source": [
    "6) Force Using Newton's Second Law:\n",
    "Write a Python program to calculate the force on an object. Use the formula:\n",
    "\n",
    "Take m (mass in kilograms) and a (acceleration in meters/second2) as inputs from the\n",
    "user."
   ]
  },
  {
   "cell_type": "code",
   "execution_count": 45,
   "id": "49b9fde1-1936-4788-b5e8-69ba954ca1f5",
   "metadata": {},
   "outputs": [
    {
     "name": "stdout",
     "output_type": "stream",
     "text": [
      "Enter mass in kg 12.3\n",
      "Enter acceleration in meter/sec^2 14.5\n"
     ]
    },
    {
     "data": {
      "text/plain": [
       "178.35000000000002"
      ]
     },
     "execution_count": 45,
     "metadata": {},
     "output_type": "execute_result"
    }
   ],
   "source": [
    " mass=float(input(\"Enter mass in kg\"))\n",
    "acceleration =float(input(\"Enter acceleration in meter/sec^2\"))\n",
    "force=mass*acceleration\n",
    "force\n",
    "\n"
   ]
  },
  {
   "cell_type": "raw",
   "id": "7c3a9172-170c-4092-940d-60f4321270ef",
   "metadata": {},
   "source": [
    "7) Compound Interest:\n",
    "Write a Python program to calculate compound interest. Use the formula:\n",
    "\n",
    "\n",
    "\n",
    "Where:\n",
    "A= total amount\n",
    "P = principal amount\n",
    "r = annual interest rate (decimal)\n",
    "n = number of times interest is compounded per year\n",
    "t = time in years\n",
    "Take P, r, n, and t as inputs from the user."
   ]
  },
  {
   "cell_type": "code",
   "execution_count": 51,
   "id": "d7dc6f88-22b4-4cc2-8bfa-1d360fab24a0",
   "metadata": {},
   "outputs": [
    {
     "name": "stdout",
     "output_type": "stream",
     "text": [
      "principal amount 200\n",
      "annual interest rate (decimal) 12.3\n",
      "number of times interest is compounded per year 2\n",
      "time in years 5\n"
     ]
    },
    {
     "name": "stdout",
     "output_type": "stream",
     "text": [
      "10219.5\n"
     ]
    }
   ],
   "source": [
    "\n",
    "P = int(input(\"principal amount\"))\n",
    "r = float(input(\"annual interest rate (decimal)\"))\n",
    "n = int(input(\"number of times interest is compounded per year\"))\n",
    "t = int(input(\"time in years\"))\n",
    "A= P*(1+r/n)**n-t\n",
    "print(A)"
   ]
  },
  {
   "cell_type": "raw",
   "id": "50671980-2c8b-4935-91ea-edc78e8cffe7",
   "metadata": {},
   "source": [
    "8) Perimeter of a Triangle:\n",
    "Write a Python program to calculate the perimeter of a triangle. Use the formula:\n",
    "\n",
    "Perimeter = a + b + c\n",
    "\n",
    "Take a, b, and c (lengths of the three sides) as inputs from the user."
   ]
  },
  {
   "cell_type": "code",
   "execution_count": 53,
   "id": "c5e6a0e0-e5c1-4ef7-829b-78facbf3bee9",
   "metadata": {},
   "outputs": [
    {
     "name": "stdout",
     "output_type": "stream",
     "text": [
      "enter a 2\n",
      "enter b 2\n",
      "enter c 2\n"
     ]
    },
    {
     "name": "stdout",
     "output_type": "stream",
     "text": [
      "6.0\n"
     ]
    }
   ],
   "source": [
    "a= float(input(\"enter a\"))\n",
    "b = float(input(\"enter b\"))\n",
    "c = float(input(\"enter c\"))\n",
    "perimeter=a+b+c\n",
    "print(perimeter)"
   ]
  },
  {
   "cell_type": "raw",
   "id": "2f149971-eae2-42cd-803d-a2a316eebb5e",
   "metadata": {},
   "source": [
    "9) Volume of a Sphere:\n",
    "Write a Python program to calculate the volume of a sphere. Use the formula:\n",
    "Take r (radius) as input from the user."
   ]
  },
  {
   "cell_type": "code",
   "execution_count": 55,
   "id": "d5dd1692-39f1-44d4-93ed-44a4ef6f75d7",
   "metadata": {},
   "outputs": [
    {
     "name": "stdout",
     "output_type": "stream",
     "text": [
      "enter radius 22.2\n"
     ]
    },
    {
     "name": "stdout",
     "output_type": "stream",
     "text": [
      "523.5983333333332\n"
     ]
    }
   ],
   "source": [
    "radius_sphere=float(input(\"enter radius\"))\n",
    "pi=3.14159\n",
    "volumn=4/3*pi*radius**3\n",
    "print(volumn)"
   ]
  },
  {
   "cell_type": "raw",
   "id": "c6e422d3-e837-4fdf-bed2-df2884a1870a",
   "metadata": {},
   "source": [
    "10) Kinetic Energy:\n",
    "Write a Python program to calculate the kinetic energy of an object. Use the formula:\n",
    "\n",
    "KE =\n",
    "1\n",
    "2\n",
    "m V\n",
    "2\n",
    "\n",
    "Take m (mass in kilograms) and v (velocity in meters/second) as inputs from the user."
   ]
  },
  {
   "cell_type": "code",
   "execution_count": 59,
   "id": "6683fdfc-1e21-4443-ba5c-f656246b8c7d",
   "metadata": {},
   "outputs": [
    {
     "name": "stdout",
     "output_type": "stream",
     "text": [
      "Enter mass 2\n",
      "enter velocity 2\n"
     ]
    },
    {
     "name": "stdout",
     "output_type": "stream",
     "text": [
      "4.0\n"
     ]
    }
   ],
   "source": [
    "mass=float(input(\"Enter mass\"))\n",
    "velocity=float(input(\"enter velocity\"))\n",
    "KE=1/2*mass*velocity**2\n",
    "print(KE)"
   ]
  },
  {
   "cell_type": "code",
   "execution_count": null,
   "id": "0f54f961-0f23-4df8-a861-3e0a59d20554",
   "metadata": {},
   "outputs": [],
   "source": []
  },
  {
   "cell_type": "code",
   "execution_count": 3,
   "id": "4799e9d7",
   "metadata": {},
   "outputs": [],
   "source": [
    "# 11) Quadratic Equation Roots:\n",
    "# Write a Python program to find the roots of a quadratic equation. Use the formula:\n",
    "\n",
    "\n",
    "\n",
    "# Take a, b, and c as inputs from the user."
   ]
  },
  {
   "cell_type": "code",
   "execution_count": 5,
   "id": "23bf914d",
   "metadata": {},
   "outputs": [
    {
     "name": "stdout",
     "output_type": "stream",
     "text": [
      "The roots of the quadratic equation are -0.5 and -1.0\n"
     ]
    }
   ],
   "source": [
    "# Function to calculate roots\n",
    "def find_roots(a, b, c):\n",
    "    # Calculate the discriminant (b^2 - 4ac)\n",
    "    discriminant = b**2 - 4*a*c\n",
    "    \n",
    "    # If discriminant is positive, we have two real roots\n",
    "    if discriminant > 0:\n",
    "        root1 = (-b + (discriminant)**0.5) / (2 * a)\n",
    "        root2 = (-b - (discriminant)**0.5) / (2 * a)\n",
    "        return (root1, root2)\n",
    "    # If discriminant is zero, we have one real root (repeated root)\n",
    "    elif discriminant == 0:\n",
    "        root = -b / (2 * a)\n",
    "        return (root,)\n",
    "    # If discriminant is negative, we have complex roots\n",
    "    else:\n",
    "        real_part = -b / (2 * a)\n",
    "        imaginary_part = ((-discriminant)**0.5) / (2 * a)\n",
    "        return (real_part + imaginary_part * 1j, real_part - imaginary_part * 1j)\n",
    "\n",
    "# Taking inputs from the user\n",
    "a = float(input(\"Enter the value of a: \"))\n",
    "b = float(input(\"Enter the value of b: \"))\n",
    "c = float(input(\"Enter the value of c: \"))\n",
    "\n",
    "# Calling the function to find the roots\n",
    "roots = find_roots(a, b, c)\n",
    "\n",
    "# Display the roots\n",
    "if len(roots) == 2:\n",
    "    print(f\"The roots of the quadratic equation are {roots[0]} and {roots[1]}\")\n",
    "elif len(roots) == 1:\n",
    "    print(f\"The root of the quadratic equation is {roots[0]}\")\n",
    "else:\n",
    "    print(f\"The roots of the quadratic equation are complex: {roots[0]} and {roots[1]}\")\n"
   ]
  },
  {
   "cell_type": "code",
   "execution_count": 7,
   "id": "62bf0129",
   "metadata": {},
   "outputs": [],
   "source": [
    "# 12) Temperature Conversion:\n",
    "# Write a Python program to convert a temperature from Celsius to Fahrenheit. Use the\n",
    "# formula:\n",
    "\n",
    "# Take C (temperature in Celsius) as input from the user."
   ]
  },
  {
   "cell_type": "markdown",
   "id": "1d6d288f",
   "metadata": {},
   "source": []
  },
  {
   "cell_type": "code",
   "execution_count": 10,
   "id": "a00dc6b6",
   "metadata": {},
   "outputs": [
    {
     "name": "stdout",
     "output_type": "stream",
     "text": [
      "35.96\n"
     ]
    }
   ],
   "source": [
    "tep=float(input(\"enter temp\"))\n",
    "fre=9/5*tep+32\n",
    "print(fre)"
   ]
  },
  {
   "cell_type": "code",
   "execution_count": 11,
   "id": "4a328a16",
   "metadata": {},
   "outputs": [],
   "source": [
    "# 13) Gravitational Force:\n",
    "# Write a Python program to calculate the gravitational force between two objects. Use\n",
    "# the formula\n",
    "\n",
    "# F = G\n",
    "# m1 ∗ m2\n",
    "# r\n",
    "# 2\n",
    "\n",
    "# m1, m2 are the masses of the objects\n",
    "# r = distance between the centers of the objects\n",
    "# Take m1, m2 and r as inputs from the user."
   ]
  },
  {
   "cell_type": "code",
   "execution_count": 13,
   "id": "73b2ee03",
   "metadata": {},
   "outputs": [
    {
     "name": "stdout",
     "output_type": "stream",
     "text": [
      "3.6750000000000003\n"
     ]
    }
   ],
   "source": [
    "m1=int(input(\"enter m1\"))\n",
    "m2=int(input(\"enter m2\"))\n",
    "r=int(input(\"enter r\"))\n",
    "G=9.8\n",
    "a=m1*m2/r**2\n",
    "\n",
    "\n",
    "f=G*a\n",
    "print(f)"
   ]
  },
  {
   "cell_type": "code",
   "execution_count": 14,
   "id": "abe4e335",
   "metadata": {},
   "outputs": [],
   "source": [
    "# 14) Volume of a Cylinder:\n",
    "# Write a Python program to calculate the volume of a cylinder. Use the formula:\n",
    "\n",
    "# Volume = πr2h\n",
    "# Take radius(r) and height(h) as inputs from the user\n"
   ]
  },
  {
   "cell_type": "code",
   "execution_count": 16,
   "id": "e6b590d4",
   "metadata": {},
   "outputs": [
    {
     "name": "stdout",
     "output_type": "stream",
     "text": [
      "50.272\n"
     ]
    }
   ],
   "source": [
    "py=3.142\n",
    "h=int(input(\"enter h\"))\n",
    "r=int(input(\"enter r\"))\n",
    "volumn=py*r**2\n",
    "print(volumn)"
   ]
  },
  {
   "cell_type": "code",
   "execution_count": 17,
   "id": "a9a9bcfd",
   "metadata": {},
   "outputs": [],
   "source": [
    "# 15) Pressure:\n",
    "# Write a Python program to calculate the pressure exerted by a force on a surface. Use\n",
    "# the formula:\n",
    "\n",
    "# P =\n",
    "# F\n",
    "# A\n",
    "\n",
    "# P = pressure\n",
    "# F = force\n",
    "# A = area\n",
    "# Take F(force) and A(area) as inputs from the user."
   ]
  },
  {
   "cell_type": "code",
   "execution_count": 18,
   "id": "739606a5",
   "metadata": {},
   "outputs": [
    {
     "name": "stdout",
     "output_type": "stream",
     "text": [
      "6\n"
     ]
    }
   ],
   "source": [
    "force=int(input(\"enter force\"))\n",
    "area=int(input(\"enter Area\"))\n",
    "pressure=force*area\n",
    "print(pressure)"
   ]
  },
  {
   "cell_type": "code",
   "execution_count": 19,
   "id": "c67a6c1a",
   "metadata": {},
   "outputs": [],
   "source": [
    "# 16) Electric Power:\n",
    "# Write a Python program to calculate the electric power consumed. Use the formula:\n",
    "\n",
    "# where:\n",
    "# P = power\n",
    "# V = voltage\n",
    "# I = current\n",
    "# Take V(voltage) and I(current) as inputs from the user."
   ]
  },
  {
   "cell_type": "code",
   "execution_count": 21,
   "id": "085c1d51",
   "metadata": {},
   "outputs": [
    {
     "name": "stdout",
     "output_type": "stream",
     "text": [
      "2.0\n"
     ]
    }
   ],
   "source": [
    "voltage=int(input(\"enter voltage\"))\n",
    "current=int(input(\"enter Area\"))\n",
    "Power=voltage/current\n",
    "print(Power)"
   ]
  },
  {
   "cell_type": "code",
   "execution_count": 22,
   "id": "7ef7d958",
   "metadata": {},
   "outputs": [],
   "source": [
    "# 17) Perimeter of a Circle (Circumference):\n",
    "# Write a Python program to calculate the perimeter (circumference) of a circle. Use the\n",
    "# formula:\n",
    "\n",
    "# Take r (radius) as input from the user."
   ]
  },
  {
   "cell_type": "code",
   "execution_count": 24,
   "id": "840c03a2",
   "metadata": {},
   "outputs": [
    {
     "name": "stdout",
     "output_type": "stream",
     "text": [
      "13.824800000000002\n"
     ]
    }
   ],
   "source": [
    "py=3.142\n",
    "r=float(input(\"enter r\"))\n",
    "P=2*py*r\n",
    "print(P\n",
    "      )"
   ]
  },
  {
   "cell_type": "code",
   "execution_count": 25,
   "id": "2a48fd84",
   "metadata": {},
   "outputs": [],
   "source": [
    "# 18) Future Value in Savings:\n",
    "# Write a Python program to calculate the future value of an investment. Use the formula:\n",
    "\n",
    "# FV = PV(1 + r)\n",
    "# ௧\n",
    "\n",
    "# where:\n",
    "# o FV= future value\n",
    "# o PV= present value\n",
    "# o r= annual interest rate (as a decimal)\n",
    "# o t= time in years\n",
    "# Take PV, r, and t as inputs from the user."
   ]
  },
  {
   "cell_type": "code",
   "execution_count": 26,
   "id": "5910b04b",
   "metadata": {},
   "outputs": [
    {
     "name": "stdout",
     "output_type": "stream",
     "text": [
      "54.0\n"
     ]
    }
   ],
   "source": [
    "PV=float(input(\"enter PV\"))\n",
    "r=float(input(\"enter radius\"))\n",
    "t=float(input(\"enter time\"))\n",
    "calcu=(1+r)**t\n",
    "mul=PV*calcu\n",
    "\n",
    "FV=mul\n",
    "print(FV)"
   ]
  },
  {
   "cell_type": "code",
   "execution_count": 27,
   "id": "0e57e936",
   "metadata": {},
   "outputs": [],
   "source": [
    "# 19) Work Done by a Force:\n",
    "# Write a Python program to calculate the work done by a force. Use the formula:\n",
    "\n",
    "# where:\n",
    "# W = work done\n",
    "# f= force\n",
    "# d = distance\n",
    "# theta = angle between force and direction of movement (in degrees)\n",
    "# Take f, d, and θ as inputs from the user."
   ]
  },
  {
   "cell_type": "code",
   "execution_count": 28,
   "id": "86568323",
   "metadata": {},
   "outputs": [
    {
     "name": "stdout",
     "output_type": "stream",
     "text": [
      "The work done is: 3.392192384625704 Joules\n"
     ]
    }
   ],
   "source": [
    "import math\n",
    "\n",
    "\n",
    "force = float(input(\"Enter the force (in Newtons): \"))\n",
    "distance = float(input(\"Enter the distance (in meters): \"))\n",
    "theta = float(input(\"Enter the angle (in degrees) between the force and direction of movement: \"))\n",
    "\n",
    "theta_radians = math.radians(theta)\n",
    "\n",
    "\n",
    "work_done = force * distance * math.cos(theta_radians)\n",
    "\n",
    "\n",
    "print(f\"The work done is: {work_done} Joules\")\n"
   ]
  },
  {
   "cell_type": "code",
   "execution_count": 29,
   "id": "66c06b9e",
   "metadata": {},
   "outputs": [],
   "source": [
    "# 20) Heat Transfer:\n",
    "# Write a Python program to calculate the amount of heat transferred. Use the formula:\n",
    "\n",
    "# Q = mc (∆T)\n",
    "\n",
    "# where:\n",
    "# Q= heat transfer\n",
    "# m = mass\n",
    "# c = specific heat capacity\n",
    "# ΔT\n",
    "# Take m, c, T as inputs from the user."
   ]
  },
  {
   "cell_type": "code",
   "execution_count": null,
   "id": "b9ea025a",
   "metadata": {},
   "outputs": [
    {
     "name": "stdout",
     "output_type": "stream",
     "text": [
      "18.0\n"
     ]
    }
   ],
   "source": [
    "m=float(input(\"Enter mass\"))\n",
    "c=float(input(\"Enter c\"))\n",
    "T=float(input(\"Enter del T\"))\n",
    "\n",
    "Heat=m*c*(T)\n",
    "print(Heat)"
   ]
  },
  {
   "cell_type": "code",
   "execution_count": null,
   "id": "79bcd61f",
   "metadata": {},
   "outputs": [],
   "source": []
  }
 ],
 "metadata": {
  "kernelspec": {
   "display_name": "base",
   "language": "python",
   "name": "python3"
  },
  "language_info": {
   "codemirror_mode": {
    "name": "ipython",
    "version": 3
   },
   "file_extension": ".py",
   "mimetype": "text/x-python",
   "name": "python",
   "nbconvert_exporter": "python",
   "pygments_lexer": "ipython3",
   "version": "3.12.7"
  }
 },
 "nbformat": 4,
 "nbformat_minor": 5
}
