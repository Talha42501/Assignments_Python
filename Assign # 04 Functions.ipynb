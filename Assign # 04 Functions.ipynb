{
 "cells": [
  {
   "cell_type": "markdown",
   "id": "a173b01d-89ed-454c-8120-9e06db5fb506",
   "metadata": {},
   "source": [
    "1. Write a Python function to find the maximum of three numbers."
   ]
  },
  {
   "cell_type": "code",
   "execution_count": 10,
   "id": "4161ee98-1d9c-45a4-826c-d46ca606476d",
   "metadata": {},
   "outputs": [
    {
     "name": "stdout",
     "output_type": "stream",
     "text": [
      "The maximum of the three numbers is: 20\n"
     ]
    }
   ],
   "source": [
    "\n",
    "def max_of_three(a, b, c):\n",
    "    return max(a, b, c)\n",
    "\n",
    "\n",
    "result = max_of_three(10, 20, 15)\n",
    "print(\"The maximum of the three numbers is:\", result)\n"
   ]
  },
  {
   "cell_type": "markdown",
   "id": "08801dc0-5e42-465c-b39c-a5638b91102b",
   "metadata": {},
   "source": [
    "2. Write a Python function to sum all the numbers in a list.\n",
    "Sample List : (8, 2, 3, 0, 7)\n",
    "Expected Output : 20"
   ]
  },
  {
   "cell_type": "code",
   "execution_count": 18,
   "id": "3001f161-a231-450a-9461-dcd59b2bd7a8",
   "metadata": {},
   "outputs": [
    {
     "name": "stdout",
     "output_type": "stream",
     "text": [
      "The sum of the numbers in the list is: 20\n"
     ]
    }
   ],
   "source": [
    "\n",
    "def sum_list(numbers):\n",
    "    return sum(numbers)\n",
    "\n",
    "# Example usage\n",
    "sample_list = [8, 2, 3, 0, 7]\n",
    "output = sum_list(sample_list)\n",
    "print(\"The sum of the numbers in the list is:\", output)\n"
   ]
  },
  {
   "cell_type": "markdown",
   "id": "38c1de76-bd73-467a-aa96-06b1b4103f0a",
   "metadata": {},
   "source": [
    "3. Write a Python function to multiply all the numbers in a list.\n",
    "Sample List : (8, 2, 3, -1, 7)\n",
    "Expected Output : -336"
   ]
  },
  {
   "cell_type": "code",
   "execution_count": 16,
   "id": "91f8bc0e-33cf-4043-bff7-86f70fd743ee",
   "metadata": {},
   "outputs": [
    {
     "name": "stdout",
     "output_type": "stream",
     "text": [
      "The product of the numbers in the list is: -336\n"
     ]
    }
   ],
   "source": [
    "\n",
    "def multiply_list(numbers):\n",
    "    result = 1\n",
    "    for num in numbers:\n",
    "        result *= num\n",
    "    return result\n",
    "\n",
    "\n",
    "sample_list = [8, 2, 3, -1, 7]\n",
    "output = multiply_list(sample_list)\n",
    "print(\"The product of the numbers in the list is:\", output)\n"
   ]
  },
  {
   "cell_type": "markdown",
   "id": "ea8ac673-b312-4d3a-8231-fbe3a20eebef",
   "metadata": {},
   "source": [
    "4. Write a Python program to reverse a string.\n",
    "Sample String : \"1234abcd\"\n",
    "Expected Output : \"dcba4321\""
   ]
  },
  {
   "cell_type": "code",
   "execution_count": null,
   "id": "6a4310f2-3253-40fe-9932-6345aaf0f489",
   "metadata": {},
   "outputs": [],
   "source": []
  },
  {
   "cell_type": "markdown",
   "id": "8421ca5d-1ecb-4a10-a218-b671739076f4",
   "metadata": {},
   "source": [
    "5. Write a Python function to calculate the factorial of a number (a non-negative\n",
    "integer). The function accepts the number as an argument."
   ]
  },
  {
   "cell_type": "code",
   "execution_count": 40,
   "id": "83cf4c02-2153-41eb-bac7-253fb14aaf19",
   "metadata": {},
   "outputs": [
    {
     "name": "stdout",
     "output_type": "stream",
     "text": [
      "The factorial of 5 is: 120\n"
     ]
    }
   ],
   "source": [
    "# Function to calculate the factorial of a number\n",
    "def factorial(n):\n",
    "    if n == 0:\n",
    "        return 1\n",
    "    return n * factorial(n - 1)\n",
    "\n",
    "# Example usage\n",
    "number = 5\n",
    "result = factorial(number)\n",
    "print(f\"The factorial of {number} is:\", result)\n"
   ]
  },
  {
   "cell_type": "markdown",
   "id": "37c03858-c391-4a82-94c3-76e397e9d183",
   "metadata": {},
   "source": [
    "6. Write a Python function to check whether a number falls within a given range."
   ]
  },
  {
   "cell_type": "code",
   "execution_count": 42,
   "id": "b118f80a-3fa6-4ea8-92a0-6183dfaac306",
   "metadata": {},
   "outputs": [
    {
     "name": "stdout",
     "output_type": "stream",
     "text": [
      "5 is within the range 1 and 10.\n"
     ]
    }
   ],
   "source": [
    "# Function to check whether a number falls within a given range\n",
    "def in_range(num, start, end):\n",
    "    return start <= num <= end\n",
    "\n",
    "# Example usage\n",
    "number = 5\n",
    "start_range = 1\n",
    "end_range = 10\n",
    "if in_range(number, start_range, end_range):\n",
    "    print(f\"{number} is within the range {start_range} and {end_range}.\")\n",
    "else:\n",
    "    print(f\"{number} is not within the range {start_range} and {end_range}.\")\n",
    "\n"
   ]
  },
  {
   "cell_type": "markdown",
   "id": "67a8c7a6-8d64-4d31-9bb1-658fceed8eb3",
   "metadata": {},
   "source": [
    "7. Write a Python function that accepts a string and counts the number of upper\n",
    "and lower case letters.\n",
    "Sample String : 'The quick Brow Fox'\n",
    "Expected Output :\n",
    "No. of Upper case characters : 3\n",
    "No. of Lower case Characters : 12"
   ]
  },
  {
   "cell_type": "code",
   "execution_count": 38,
   "id": "765f30e0-5f78-49ff-b5a1-49e36f6d3e5e",
   "metadata": {},
   "outputs": [
    {
     "name": "stdout",
     "output_type": "stream",
     "text": [
      "No. of Upper case characters: 3\n",
      "No. of Lower case characters: 12\n"
     ]
    }
   ],
   "source": [
    "# Function to count the number of upper and lower case letters in a string\n",
    "def count_case(s):\n",
    "    upper_count = sum(1 for char in s if char.isupper())\n",
    "    lower_count = sum(1 for char in s if char.islower())\n",
    "    return upper_count, lower_count\n",
    "\n",
    "# Example usage\n",
    "sample_string = 'The quick Brow Fox'\n",
    "upper, lower = count_case(sample_string)\n",
    "print(\"No. of Upper case characters:\", upper)\n",
    "print(\"No. of Lower case characters:\", lower)\n"
   ]
  },
  {
   "cell_type": "markdown",
   "id": "7650adca-1e37-4d09-af75-8bc572aea7cb",
   "metadata": {},
   "source": [
    "8. Write a Python function that takes a list and returns a new list with distinct\n",
    "elements from the first list.\n",
    "Sample List : [1,2,3,3,3,3,4,5]\n",
    "Unique List : [1, 2, 3, 4, 5]"
   ]
  },
  {
   "cell_type": "code",
   "execution_count": 36,
   "id": "dee15cd9-d9e9-4e99-a303-a58391206629",
   "metadata": {},
   "outputs": [
    {
     "name": "stdout",
     "output_type": "stream",
     "text": [
      "Unique List: [1, 2, 3, 4, 5]\n"
     ]
    }
   ],
   "source": [
    "\n",
    "def unique_list(lst):\n",
    "    return list(set(lst))\n",
    "\n",
    "\n",
    "sample_list = [1, 2, 3, 3, 3, 3, 4, 5]\n",
    "unique = unique_list(sample_list)\n",
    "print(\"Unique List:\", unique)\n"
   ]
  },
  {
   "cell_type": "markdown",
   "id": "e0ecc6a1-bae0-4ab1-9d0c-dad8e31d6e1a",
   "metadata": {},
   "source": [
    "9. Write a Python function that takes a number as a parameter and checks\n",
    "whether the number is prime or not.\n",
    "Note : A prime number (or a prime) is a natural number greater than 1 and that\n",
    "has no positive divisors other than 1 and itself."
   ]
  },
  {
   "cell_type": "code",
   "execution_count": 34,
   "id": "16757ba7-fdf9-4b48-9165-2143288ce795",
   "metadata": {},
   "outputs": [
    {
     "name": "stdout",
     "output_type": "stream",
     "text": [
      "29 is a prime number.\n"
     ]
    }
   ],
   "source": [
    "# Function to check whether a number is prime\n",
    "def is_prime(n):\n",
    "    if n <= 1:\n",
    "        return False\n",
    "    for i in range(2, int(n ** 0.5) + 1):\n",
    "        if n % i == 0:\n",
    "            return False\n",
    "    return True\n",
    "\n",
    "# Example usage\n",
    "number = 29\n",
    "if is_prime(number):\n",
    "    print(f\"{number} is a prime number.\")\n",
    "else:\n",
    "    print(f\"{number} is not a prime number.\")\n"
   ]
  },
  {
   "cell_type": "code",
   "execution_count": 56,
   "id": "19ecda68-e679-4a06-8396-086460fa52c9",
   "metadata": {},
   "outputs": [],
   "source": [
    "# 10. Print the even numbers from a list"
   ]
  },
  {
   "cell_type": "code",
   "execution_count": 54,
   "id": "11838b1f-768d-4150-a68d-a3cc2ee69909",
   "metadata": {},
   "outputs": [
    {
     "name": "stdout",
     "output_type": "stream",
     "text": [
      "10. Even numbers from the list: [2, 4, 6, 8]\n"
     ]
    }
   ],
   "source": [
    "\n",
    "def even_numbers(lst):\n",
    "    return [num for num in lst if num % 2 == 0]\n",
    "\n",
    "# Example usage\n",
    "sample_list = [1, 2, 3, 4, 5, 6, 7, 8, 9]\n",
    "even_nums = even_numbers(sample_list)\n",
    "print(\"10. Even numbers from the list:\", even_nums)\n"
   ]
  },
  {
   "cell_type": "code",
   "execution_count": 58,
   "id": "24007363-52c0-4443-b275-6343d9c89e91",
   "metadata": {},
   "outputs": [],
   "source": [
    "# 11. Check whether a number is perfect"
   ]
  },
  {
   "cell_type": "code",
   "execution_count": 49,
   "id": "df6ed539-1499-46b5-9fbb-3aaa6c5e018d",
   "metadata": {},
   "outputs": [
    {
     "name": "stdout",
     "output_type": "stream",
     "text": [
      "11. 28 is a perfect number.\n"
     ]
    }
   ],
   "source": [
    "\n",
    "def is_perfect(num):\n",
    "    return num == sum(i for i in range(1, num) if num % i == 0)\n",
    "\n",
    "# Example usage\n",
    "number = 28\n",
    "if is_perfect(number):\n",
    "    print(f\"11. {number} is a perfect number.\")\n",
    "else:\n",
    "    print(f\"11. {number} is not a perfect number.\")\n"
   ]
  },
  {
   "cell_type": "code",
   "execution_count": 60,
   "id": "1e4ba834-102e-4128-9377-d82bbe13bd39",
   "metadata": {},
   "outputs": [],
   "source": [
    "#12"
   ]
  },
  {
   "cell_type": "code",
   "execution_count": 52,
   "id": "06b20961-be0e-429a-875a-efd5af20c245",
   "metadata": {},
   "outputs": [
    {
     "name": "stdout",
     "output_type": "stream",
     "text": [
      "12. 'A man, a plan, a canal, Panama' is a palindrome.\n"
     ]
    }
   ],
   "source": [
    "\n",
    "def is_palindrome(s):\n",
    "    s = ''.join(c.lower() for c in s if c.isalnum())\n",
    "    return s == s[::-1]\n",
    "\n",
    "\n",
    "sample_string = 'A man, a plan, a canal, Panama'\n",
    "if is_palindrome(sample_string):\n",
    "    print(f\"12. '{sample_string}' is a palindrome.\")\n",
    "else:\n",
    "    print(f\"12. '{sample_string}' is not a palindrome.\")\n"
   ]
  },
  {
   "cell_type": "markdown",
   "id": "962be0f7-99fe-468b-a68b-081a9373d8e0",
   "metadata": {},
   "source": [
    "# Task PDF"
   ]
  },
  {
   "cell_type": "code",
   "execution_count": 66,
   "id": "c13d8116-e109-4d6e-9312-61646110d639",
   "metadata": {},
   "outputs": [],
   "source": [
    "#Task 1: Numbers Divisible by 7 but Not Multiple of 5"
   ]
  },
  {
   "cell_type": "code",
   "execution_count": 68,
   "id": "5973201a-f59b-424b-baff-dbae2b209e59",
   "metadata": {},
   "outputs": [
    {
     "name": "stdout",
     "output_type": "stream",
     "text": [
      "Task 1: 2002,2009,2016,2023,2037,2044,2051,2058,2072,2079,2086,2093,2107,2114,2121,2128,2142,2149,2156,2163,2177,2184,2191,2198,2212,2219,2226,2233,2247,2254,2261,2268,2282,2289,2296,2303,2317,2324,2331,2338,2352,2359,2366,2373,2387,2394,2401,2408,2422,2429,2436,2443,2457,2464,2471,2478,2492,2499,2506,2513,2527,2534,2541,2548,2562,2569,2576,2583,2597,2604,2611,2618,2632,2639,2646,2653,2667,2674,2681,2688,2702,2709,2716,2723,2737,2744,2751,2758,2772,2779,2786,2793,2807,2814,2821,2828,2842,2849,2856,2863,2877,2884,2891,2898,2912,2919,2926,2933,2947,2954,2961,2968,2982,2989,2996,3003,3017,3024,3031,3038,3052,3059,3066,3073,3087,3094,3101,3108,3122,3129,3136,3143,3157,3164,3171,3178,3192,3199\n"
     ]
    }
   ],
   "source": [
    "# Function to find numbers divisible by 7 but not a multiple of 5 between 2000 and 3200\n",
    "def task1():\n",
    "    result = []\n",
    "    for num in range(2000, 3201):\n",
    "        if num % 7 == 0 and num % 5 != 0:\n",
    "            result.append(str(num))\n",
    "    return ','.join(result)\n",
    "\n",
    "# Example usage\n",
    "print(\"Task 1:\", task1())\n"
   ]
  },
  {
   "cell_type": "markdown",
   "id": "db4641d0-e88d-4fab-9c4f-60683cf14ae2",
   "metadata": {},
   "source": [
    "# Task #02"
   ]
  },
  {
   "cell_type": "code",
   "execution_count": 71,
   "id": "a8ef6d4e-a671-4b59-8369-4a34def2690f",
   "metadata": {},
   "outputs": [
    {
     "name": "stdin",
     "output_type": "stream",
     "text": [
      "Enter comma-separated C values:  12\n"
     ]
    },
    {
     "name": "stdout",
     "output_type": "stream",
     "text": [
      "Task 2: 15\n"
     ]
    }
   ],
   "source": [
    "import math\n",
    "\n",
    "# Function to calculate P = sqrt[(2 * A * B) / C]\n",
    "def task2():\n",
    "    A = 50\n",
    "    B = 30\n",
    "    C_values = input(\"Enter comma-separated C values: \").split(',')\n",
    "    result = []\n",
    "    \n",
    "    for C in C_values:\n",
    "        C = int(C)\n",
    "        P = math.sqrt((2 * A * B) / C)\n",
    "        result.append(str(int(P)))\n",
    "        \n",
    "    return ','.join(result)\n",
    "\n",
    "# Example usage\n",
    "print(\"Task 2:\", task2())\n"
   ]
  },
  {
   "cell_type": "code",
   "execution_count": null,
   "id": "62eee4b9-9387-42c3-9686-5650e1bad08a",
   "metadata": {},
   "outputs": [],
   "source": []
  },
  {
   "cell_type": "markdown",
   "id": "9ca9c311-22a2-4c9c-ab70-f02da71559bd",
   "metadata": {},
   "source": [
    "# Task 03"
   ]
  },
  {
   "cell_type": "code",
   "execution_count": 1,
   "id": "c7f2df4d-3aa7-4d31-8279-478991f21be6",
   "metadata": {},
   "outputs": [
    {
     "name": "stdin",
     "output_type": "stream",
     "text": [
      "Enter comma-separated words:  without,hello,bag,world\n"
     ]
    },
    {
     "name": "stdout",
     "output_type": "stream",
     "text": [
      "Task 3: bag,hello,without,world\n"
     ]
    }
   ],
   "source": [
    "# Function to sort words alphabetically\n",
    "def task3():\n",
    "    words = input(\"Enter comma-separated words: \").split(',')\n",
    "    words.sort()\n",
    "    return ','.join(words)\n",
    "\n",
    "# Example usage\n",
    "print(\"Task 3:\", task3())\n"
   ]
  },
  {
   "cell_type": "markdown",
   "id": "86b1dcf2-a907-448a-8658-a1d490770e81",
   "metadata": {},
   "source": [
    "# Task 04"
   ]
  },
  {
   "cell_type": "code",
   "execution_count": 4,
   "id": "1390a3d9-3021-49d2-ae3e-eab155ef339f",
   "metadata": {},
   "outputs": [
    {
     "name": "stdin",
     "output_type": "stream",
     "text": [
      "Enter line (leave blank to stop):  Hello world Practice makes perfect\n",
      "Enter line (leave blank to stop):  Hello world Practice makes perfect\n",
      "Enter line (leave blank to stop):  Task 4:  HELLO WORLD PRACTICE MAKES PERFECT\n",
      "Enter line (leave blank to stop):  \n"
     ]
    },
    {
     "name": "stdout",
     "output_type": "stream",
     "text": [
      "Task 4:\n",
      " HELLO WORLD PRACTICE MAKES PERFECT\n",
      "HELLO WORLD PRACTICE MAKES PERFECT\n",
      "TASK 4:  HELLO WORLD PRACTICE MAKES PERFECT\n"
     ]
    }
   ],
   "source": [
    "# Function to capitalize all characters in sentences\n",
    "def task4():\n",
    "    lines = []\n",
    "    while True:\n",
    "        try:\n",
    "            line = input(\"Enter line (leave blank to stop): \")\n",
    "            if not line:\n",
    "                break\n",
    "            lines.append(line.upper())\n",
    "        except EOFError:\n",
    "            break\n",
    "            \n",
    "    return '\\n'.join(lines)\n",
    "\n",
    "# Example usage\n",
    "print(\"Task 4:\\n\", task4())\n"
   ]
  },
  {
   "cell_type": "markdown",
   "id": "b79cfe2c-cae7-4cca-b35b-1a41830bf4e8",
   "metadata": {},
   "source": [
    "# Task 05"
   ]
  },
  {
   "cell_type": "code",
   "execution_count": 21,
   "id": "2ad86f5d-c4fd-41cc-8f6c-052e294a4a98",
   "metadata": {},
   "outputs": [
    {
     "name": "stdin",
     "output_type": "stream",
     "text": [
      "Enter a sentence:  Hello world Practice makes perfect\n"
     ]
    }
   ],
   "source": [
    "# Function to count vowels in a sentence\n",
    "def task5():\n",
    "    sentence = input(\"Enter a sentence: \")\n",
    "    vowels = 'aeiouTas'\n",
    "\n",
    "\n",
    "\n",
    "# Example usage\n",
    "task5()\n"
   ]
  },
  {
   "cell_type": "markdown",
   "id": "6954df6f-033e-4b36-acbb-6fa9c53ea697",
   "metadata": {},
   "source": [
    "# Task 06"
   ]
  },
  {
   "cell_type": "code",
   "execution_count": 12,
   "id": "73e7f03b-9d16-46ec-bac8-3582526abde9",
   "metadata": {},
   "outputs": [
    {
     "name": "stdout",
     "output_type": "stream",
     "text": [
      "Task 6: 2000,2002,2004,2006,2008,2020,2022,2024,2026,2028,2040,2042,2044,2046,2048,2060,2062,2064,2066,2068,2080,2082,2084,2086,2088,2200,2202,2204,2206,2208,2220,2222,2224,2226,2228,2240,2242,2244,2246,2248,2260,2262,2264,2266,2268,2280,2282,2284,2286,2288,2400,2402,2404,2406,2408,2420,2422,2424,2426,2428,2440,2442,2444,2446,2448,2460,2462,2464,2466,2468,2480,2482,2484,2486,2488,2600,2602,2604,2606,2608,2620,2622,2624,2626,2628,2640,2642,2644,2646,2648,2660,2662,2664,2666,2668,2680,2682,2684,2686,2688,2800,2802,2804,2806,2808,2820,2822,2824,2826,2828,2840,2842,2844,2846,2848,2860,2862,2864,2866,2868,2880,2882,2884,2886,2888\n"
     ]
    }
   ],
   "source": [
    "# Function to list numbers with all even digits\n",
    "def task6():\n",
    "    result = []\n",
    "    for num in range(1000, 3001):\n",
    "        if all(int(digit) % 2 == 0 for digit in str(num)):\n",
    "            result.append(str(num))\n",
    "    return ','.join(result)\n",
    "\n",
    "# Example usage\n",
    "print(\"Task 6:\", task6())\n"
   ]
  },
  {
   "cell_type": "markdown",
   "id": "b0f3b6fd-875b-45fe-ab15-cb98432e8f01",
   "metadata": {},
   "source": [
    "# Task 07"
   ]
  },
  {
   "cell_type": "code",
   "execution_count": 19,
   "id": "c6174801-4bc9-428f-848a-9b303584713f",
   "metadata": {},
   "outputs": [
    {
     "name": "stdin",
     "output_type": "stream",
     "text": [
      "Enter comma-separated binary numbers:  0100,0011,1010,1001\n"
     ]
    },
    {
     "name": "stdout",
     "output_type": "stream",
     "text": [
      "Task 7: 1010\n"
     ]
    }
   ],
   "source": [
    "# Function to check divisibility of binary numbers by 5\n",
    "def task7():\n",
    "    binary_numbers = input(\"Enter comma-separated binary numbers: \").split(',')\n",
    "    result = []\n",
    "    \n",
    "    for bin_num in binary_numbers:\n",
    "        if int(bin_num, 2) % 5 == 0:\n",
    "            result.append(bin_num)\n",
    "    \n",
    "    return ','.join(result)\n",
    "\n",
    "# Example usage\n",
    "print(\"Task 7:\", task7())\n",
    "\n"
   ]
  },
  {
   "cell_type": "code",
   "execution_count": null,
   "id": "7881a950-6e30-4f96-8b18-d7bbbb44e3bf",
   "metadata": {},
   "outputs": [],
   "source": []
  }
 ],
 "metadata": {
  "kernelspec": {
   "display_name": "Python 3 (ipykernel)",
   "language": "python",
   "name": "python3"
  },
  "language_info": {
   "codemirror_mode": {
    "name": "ipython",
    "version": 3
   },
   "file_extension": ".py",
   "mimetype": "text/x-python",
   "name": "python",
   "nbconvert_exporter": "python",
   "pygments_lexer": "ipython3",
   "version": "3.12.7"
  }
 },
 "nbformat": 4,
 "nbformat_minor": 5
}
